{
 "cells": [
  {
   "cell_type": "markdown",
   "id": "b8499bfc",
   "metadata": {},
   "source": [
    "## About Dataset\n",
    "Data\n",
    "The following data is intended for advancing financial sentiment analysis research. It's two datasets (FiQA, Financial PhraseBank) combined into one easy-to-use CSV file. It provides financial sentences with sentiment labels.\n",
    "\n",
    "Citations\n",
    "Malo, Pekka, et al. \"Good debt or bad debt: Detecting semantic orientations in economic texts.\" Journal of the Association for Information Science and Technology 65.4 (2014): 782-796."
   ]
  },
  {
   "cell_type": "code",
   "execution_count": 189,
   "id": "9d536600",
   "metadata": {
    "scrolled": false
   },
   "outputs": [
    {
     "name": "stderr",
     "output_type": "stream",
     "text": [
      "[nltk_data] Downloading package wordnet to\n",
      "[nltk_data]     /Users/vasundharauniyal/nltk_data...\n",
      "[nltk_data]   Package wordnet is already up-to-date!\n",
      "[nltk_data] Downloading package stopwords to\n",
      "[nltk_data]     /Users/vasundharauniyal/nltk_data...\n",
      "[nltk_data]   Package stopwords is already up-to-date!\n",
      "[nltk_data] Downloading package omw-1.4 to\n",
      "[nltk_data]     /Users/vasundharauniyal/nltk_data...\n",
      "[nltk_data]   Package omw-1.4 is already up-to-date!\n",
      "[nltk_data] Downloading package punkt to\n",
      "[nltk_data]     /Users/vasundharauniyal/nltk_data...\n",
      "[nltk_data]   Package punkt is already up-to-date!\n"
     ]
    },
    {
     "data": {
      "text/plain": [
       "True"
      ]
     },
     "execution_count": 189,
     "metadata": {},
     "output_type": "execute_result"
    }
   ],
   "source": [
    "from sklearn.utils import resample\n",
    "from sklearn.model_selection import train_test_split\n",
    "from sklearn.feature_extraction.text import CountVectorizer\n",
    "from sklearn.feature_extraction.text import TfidfTransformer\n",
    "from sklearn.naive_bayes import MultinomialNB\n",
    "from sklearn.pipeline import Pipeline\n",
    "import pandas as pd\n",
    "import nltk\n",
    "import re\n",
    "import numpy as np\n",
    "from wordcloud import WordCloud, STOPWORDS, ImageColorGenerator\n",
    "from nltk.tokenize import RegexpTokenizer\n",
    "from nltk.stem import WordNetLemmatizer,PorterStemmer\n",
    "from nltk.corpus import stopwords\n",
    "import matplotlib.pyplot as plt\n",
    "import seaborn as sns\n",
    "from matplotlib.pyplot import figure\n",
    "from collections import Counter, defaultdict\n",
    "\n",
    "from datasets import Dataset\n",
    "import torch\n",
    "import transformers\n",
    "\n",
    "from sklearn.model_selection import train_test_split\n",
    "from sklearn.metrics import confusion_matrix, classification_report,precision_score,accuracy_score,f1_score\n",
    "\n",
    "from transformers import BertTokenizer, Trainer, BertForSequenceClassification, TrainingArguments, DistilBertTokenizerFast,DistilBertForSequenceClassification\n",
    "\n",
    "import warnings\n",
    "warnings.filterwarnings('ignore')\n",
    "\n",
    "nltk.download('wordnet')\n",
    "nltk.download('stopwords')\n",
    "nltk.download('omw-1.4')\n",
    "nltk.download('punkt')"
   ]
  },
  {
   "cell_type": "code",
   "execution_count": 11,
   "id": "205742b3",
   "metadata": {},
   "outputs": [],
   "source": [
    "## Attention mechanism models - bert \n",
    "## BOW - idf , cdf\n",
    "## tokenization"
   ]
  },
  {
   "cell_type": "code",
   "execution_count": 12,
   "id": "2bf0ab55",
   "metadata": {},
   "outputs": [],
   "source": []
  },
  {
   "cell_type": "code",
   "execution_count": 190,
   "id": "f74b99fb",
   "metadata": {},
   "outputs": [
    {
     "data": {
      "text/html": [
       "<div>\n",
       "<style scoped>\n",
       "    .dataframe tbody tr th:only-of-type {\n",
       "        vertical-align: middle;\n",
       "    }\n",
       "\n",
       "    .dataframe tbody tr th {\n",
       "        vertical-align: top;\n",
       "    }\n",
       "\n",
       "    .dataframe thead th {\n",
       "        text-align: right;\n",
       "    }\n",
       "</style>\n",
       "<table border=\"1\" class=\"dataframe\">\n",
       "  <thead>\n",
       "    <tr style=\"text-align: right;\">\n",
       "      <th></th>\n",
       "      <th>Sentence</th>\n",
       "      <th>Sentiment</th>\n",
       "    </tr>\n",
       "  </thead>\n",
       "  <tbody>\n",
       "    <tr>\n",
       "      <th>0</th>\n",
       "      <td>The GeoSolutions technology will leverage Bene...</td>\n",
       "      <td>positive</td>\n",
       "    </tr>\n",
       "    <tr>\n",
       "      <th>1</th>\n",
       "      <td>$ESI on lows, down $1.50 to $2.50 BK a real po...</td>\n",
       "      <td>negative</td>\n",
       "    </tr>\n",
       "    <tr>\n",
       "      <th>2</th>\n",
       "      <td>For the last quarter of 2010 , Componenta 's n...</td>\n",
       "      <td>positive</td>\n",
       "    </tr>\n",
       "    <tr>\n",
       "      <th>3</th>\n",
       "      <td>According to the Finnish-Russian Chamber of Co...</td>\n",
       "      <td>neutral</td>\n",
       "    </tr>\n",
       "    <tr>\n",
       "      <th>4</th>\n",
       "      <td>The Swedish buyout firm has sold its remaining...</td>\n",
       "      <td>neutral</td>\n",
       "    </tr>\n",
       "    <tr>\n",
       "      <th>...</th>\n",
       "      <td>...</td>\n",
       "      <td>...</td>\n",
       "    </tr>\n",
       "    <tr>\n",
       "      <th>5837</th>\n",
       "      <td>RISING costs have forced packaging producer Hu...</td>\n",
       "      <td>negative</td>\n",
       "    </tr>\n",
       "    <tr>\n",
       "      <th>5838</th>\n",
       "      <td>Nordic Walking was first used as a summer trai...</td>\n",
       "      <td>neutral</td>\n",
       "    </tr>\n",
       "    <tr>\n",
       "      <th>5839</th>\n",
       "      <td>According shipping company Viking Line , the E...</td>\n",
       "      <td>neutral</td>\n",
       "    </tr>\n",
       "    <tr>\n",
       "      <th>5840</th>\n",
       "      <td>In the building and home improvement trade , s...</td>\n",
       "      <td>neutral</td>\n",
       "    </tr>\n",
       "    <tr>\n",
       "      <th>5841</th>\n",
       "      <td>HELSINKI AFX - KCI Konecranes said it has won ...</td>\n",
       "      <td>positive</td>\n",
       "    </tr>\n",
       "  </tbody>\n",
       "</table>\n",
       "<p>5842 rows × 2 columns</p>\n",
       "</div>"
      ],
      "text/plain": [
       "                                               Sentence Sentiment\n",
       "0     The GeoSolutions technology will leverage Bene...  positive\n",
       "1     $ESI on lows, down $1.50 to $2.50 BK a real po...  negative\n",
       "2     For the last quarter of 2010 , Componenta 's n...  positive\n",
       "3     According to the Finnish-Russian Chamber of Co...   neutral\n",
       "4     The Swedish buyout firm has sold its remaining...   neutral\n",
       "...                                                 ...       ...\n",
       "5837  RISING costs have forced packaging producer Hu...  negative\n",
       "5838  Nordic Walking was first used as a summer trai...   neutral\n",
       "5839  According shipping company Viking Line , the E...   neutral\n",
       "5840  In the building and home improvement trade , s...   neutral\n",
       "5841  HELSINKI AFX - KCI Konecranes said it has won ...  positive\n",
       "\n",
       "[5842 rows x 2 columns]"
      ]
     },
     "execution_count": 190,
     "metadata": {},
     "output_type": "execute_result"
    }
   ],
   "source": [
    "df = pd.read_csv('Sentimental.csv')\n",
    "df"
   ]
  },
  {
   "cell_type": "code",
   "execution_count": 191,
   "id": "db8bdbd7",
   "metadata": {},
   "outputs": [
    {
     "data": {
      "text/html": [
       "<div>\n",
       "<style scoped>\n",
       "    .dataframe tbody tr th:only-of-type {\n",
       "        vertical-align: middle;\n",
       "    }\n",
       "\n",
       "    .dataframe tbody tr th {\n",
       "        vertical-align: top;\n",
       "    }\n",
       "\n",
       "    .dataframe thead th {\n",
       "        text-align: right;\n",
       "    }\n",
       "</style>\n",
       "<table border=\"1\" class=\"dataframe\">\n",
       "  <thead>\n",
       "    <tr style=\"text-align: right;\">\n",
       "      <th></th>\n",
       "      <th>Sentence</th>\n",
       "      <th>Cleaned_text</th>\n",
       "    </tr>\n",
       "  </thead>\n",
       "  <tbody>\n",
       "    <tr>\n",
       "      <th>0</th>\n",
       "      <td>The GeoSolutions technology will leverage Bene...</td>\n",
       "      <td>geosolutions technology leverage benefon gps s...</td>\n",
       "    </tr>\n",
       "    <tr>\n",
       "      <th>1</th>\n",
       "      <td>$ESI on lows, down $1.50 to $2.50 BK a real po...</td>\n",
       "      <td>esi lows real possibility</td>\n",
       "    </tr>\n",
       "    <tr>\n",
       "      <th>2</th>\n",
       "      <td>For the last quarter of 2010 , Componenta 's n...</td>\n",
       "      <td>last quarter componenta net sales doubled eurm...</td>\n",
       "    </tr>\n",
       "    <tr>\n",
       "      <th>3</th>\n",
       "      <td>According to the Finnish-Russian Chamber of Co...</td>\n",
       "      <td>according finnish russian chamber commerce maj...</td>\n",
       "    </tr>\n",
       "    <tr>\n",
       "      <th>4</th>\n",
       "      <td>The Swedish buyout firm has sold its remaining...</td>\n",
       "      <td>swedish buyout firm sold remaining percent sta...</td>\n",
       "    </tr>\n",
       "  </tbody>\n",
       "</table>\n",
       "</div>"
      ],
      "text/plain": [
       "                                            Sentence  \\\n",
       "0  The GeoSolutions technology will leverage Bene...   \n",
       "1  $ESI on lows, down $1.50 to $2.50 BK a real po...   \n",
       "2  For the last quarter of 2010 , Componenta 's n...   \n",
       "3  According to the Finnish-Russian Chamber of Co...   \n",
       "4  The Swedish buyout firm has sold its remaining...   \n",
       "\n",
       "                                        Cleaned_text  \n",
       "0  geosolutions technology leverage benefon gps s...  \n",
       "1                          esi lows real possibility  \n",
       "2  last quarter componenta net sales doubled eurm...  \n",
       "3  according finnish russian chamber commerce maj...  \n",
       "4  swedish buyout firm sold remaining percent sta...  "
      ]
     },
     "execution_count": 191,
     "metadata": {},
     "output_type": "execute_result"
    }
   ],
   "source": [
    "def preprocess_text(text):\n",
    "    text = str(text).lower() \n",
    "    text = text.replace('{html}', \"\")\n",
    "    clean = re.compile('<.*?>')\n",
    "    clean_data = re.sub(clean, '', text)\n",
    "    remove_url = re.sub(r'http\\S+', '',clean_data)\n",
    "    remove_num = re.sub('[0-9]+', '', remove_url)\n",
    "    tokenizer =  RegexpTokenizer(r'\\w+')\n",
    "    tokens = tokenizer.tokenize(remove_num) \n",
    "    words = [i for i in tokens if len(i)>2 if not i in stopwords.words('english')]\n",
    "    stem_words=[stemmer.stem(i) for i in words]\n",
    "    lemma_words=[lemmatizer.lemmatize(i) for i in stem_words]\n",
    "    return \" \".join(words)\n",
    "\n",
    "df['Cleaned_text'] = df['Sentence'].apply(preprocess_text)\n",
    "df[['Sentence','Cleaned_text']].head()"
   ]
  },
  {
   "cell_type": "code",
   "execution_count": 192,
   "id": "71f1d13a",
   "metadata": {},
   "outputs": [],
   "source": [
    "import string\n",
    "from nltk.tokenize import word_tokenize\n",
    "from nltk.corpus import words"
   ]
  },
  {
   "cell_type": "code",
   "execution_count": 193,
   "id": "fcc61aaf",
   "metadata": {},
   "outputs": [],
   "source": [
    "from sklearn.feature_extraction.text import TfidfVectorizer"
   ]
  },
  {
   "cell_type": "code",
   "execution_count": 194,
   "id": "2cd2bc63",
   "metadata": {
    "scrolled": false
   },
   "outputs": [
    {
     "name": "stdout",
     "output_type": "stream",
     "text": [
      "['aapl' 'according' 'acquired' 'acquisition' 'activities' 'added'\n",
      " 'addition' 'adp' 'afx' 'ago' 'agreed' 'agreement' 'ahlstrom' 'alma'\n",
      " 'already' 'also' 'america' 'amount' 'amounted' 'analyst' 'announced'\n",
      " 'annual' 'another' 'applications' 'approximately' 'april' 'area' 'areas'\n",
      " 'around' 'aspo' 'aspocomp' 'astrazeneca' 'august' 'available' 'awarded'\n",
      " 'back' 'baltic' 'bank' 'barclays' 'base' 'based' 'basware' 'beer' 'bid'\n",
      " 'billion' 'board' 'brand' 'breakout' 'building' 'built' 'business' 'buy'\n",
      " 'calls' 'capacity' 'capital' 'capman' 'cargotec' 'cash' 'cent' 'center'\n",
      " 'ceo' 'chain' 'chairman' 'chief' 'china' 'city' 'close' 'closed' 'com'\n",
      " 'combined' 'commercial' 'communications' 'companies' 'company' 'compared'\n",
      " 'completed' 'componenta' 'construction' 'continue' 'continuing'\n",
      " 'contract' 'cooperation' 'corp' 'corporation' 'corresponding' 'cost'\n",
      " 'costs' 'could' 'countries' 'credit' 'current' 'currently' 'customer'\n",
      " 'customers' 'cut' 'daily' 'data' 'day' 'deal' 'december' 'decided'\n",
      " 'decision' 'declined' 'decreased' 'delivered' 'delivery' 'demand'\n",
      " 'design' 'details' 'developed' 'developer' 'development' 'director'\n",
      " 'directors' 'disclosed' 'distribution' 'dividend' 'division' 'dropped'\n",
      " 'due' 'earlier' 'earnings' 'elcoteq' 'electronics' 'employees' 'employs'\n",
      " 'end' 'energy' 'engineering' 'enso' 'eps' 'equipment' 'estate'\n",
      " 'estimated' 'estimates' 'estonia' 'eur' 'eurm' 'euro' 'europe' 'european'\n",
      " 'euros' 'exchange' 'excluding' 'executive' 'expected' 'expects'\n",
      " 'facility' 'fall' 'february' 'fell' 'financial' 'finland' 'finnair'\n",
      " 'finnish' 'firm' 'first' 'fiscal' 'fiskars' 'fixed' 'flow' 'focus'\n",
      " 'following' 'food' 'forest' 'four' 'fourth' 'friday' 'ftse' 'full'\n",
      " 'future' 'general' 'germany' 'global' 'going' 'good' 'government' 'grew'\n",
      " 'group' 'growth' 'half' 'handling' 'head' 'headquartered' 'hel' 'held'\n",
      " 'helsinki' 'high' 'higher' 'hit' 'holding' 'however' 'inc' 'include'\n",
      " 'includes' 'including' 'income' 'increase' 'increased' 'index'\n",
      " 'industrial' 'industry' 'information' 'insurance' 'interest'\n",
      " 'international' 'internet' 'investment' 'investments' 'investors' 'issue'\n",
      " 'issued' 'items' 'january' 'joint' 'july' 'june' 'kemira' 'key' 'large'\n",
      " 'largest' 'last' 'lay' 'lead' 'level' 'life' 'like' 'line' 'local'\n",
      " 'london' 'long' 'looking' 'loss' 'low' 'lower' 'ltd' 'machinery' 'made'\n",
      " 'maintenance' 'major' 'make' 'maker' 'making' 'management' 'manufacturer'\n",
      " 'manufacturing' 'march' 'margin' 'market' 'marketing' 'markets'\n",
      " 'materials' 'may' 'measures' 'media' 'meeting' 'members' 'metso' 'mill'\n",
      " 'million' 'mln' 'mobile' 'model' 'monday' 'month' 'months' 'move' 'near'\n",
      " 'negative' 'negotiations' 'neste' 'net' 'network' 'networks' 'new' 'news'\n",
      " 'next' 'nine' 'nokia' 'non' 'nordea' 'nordic' 'north' 'november' 'number'\n",
      " 'october' 'offer' 'office' 'oil' 'okmetic' 'omx' 'one' 'operating'\n",
      " 'operation' 'operations' 'option' 'options' 'order' 'orders' 'outlook'\n",
      " 'outotec' 'owned' 'owner' 'oyj' 'packaging' 'paid' 'paper' 'part'\n",
      " 'partner' 'pay' 'pct' 'people' 'per' 'percent' 'performance' 'period'\n",
      " 'personnel' 'petersburg' 'pharmaceutical' 'phone' 'place' 'plan' 'plans'\n",
      " 'plant' 'plants' 'plc' 'pohjola' 'points' 'position' 'positive' 'posted'\n",
      " 'power' 'poyry' 'president' 'press' 'pretax' 'previous' 'previously'\n",
      " 'price' 'prices' 'printing' 'process' 'processing' 'product' 'production'\n",
      " 'products' 'profit' 'program' 'project' 'projects' 'provide' 'provider'\n",
      " 'provides' 'public' 'published' 'pulp' 'purchase' 'quality' 'quarter'\n",
      " 'range' 'rapala' 'rautaruukki' 'real' 'received' 'recurring' 'related'\n",
      " 'release' 'remain' 'report' 'reported' 'reports' 'research'\n",
      " 'respectively' 'result' 'results' 'retail' 'revenue' 'rights' 'rise'\n",
      " 'rose' 'russia' 'russian' 'ruukki' 'said' 'sale' 'sales' 'sampo' 'sanoma'\n",
      " 'savings' 'says' 'scanfil' 'second' 'sector' 'security' 'see' 'sell'\n",
      " 'september' 'service' 'services' 'set' 'several' 'share' 'shareholders'\n",
      " 'shares' 'shipping' 'short' 'signed' 'significant' 'since' 'situation'\n",
      " 'six' 'slightly' 'small' 'software' 'sold' 'solution' 'solutions'\n",
      " 'sports' 'spy' 'square' 'staff' 'stake' 'start' 'started' 'state' 'steel'\n",
      " 'still' 'stock' 'stockmann' 'stocks' 'stora' 'store' 'stores' 'strategy'\n",
      " 'strong' 'subsidiary' 'supplier' 'supply' 'support' 'sweden' 'swedish'\n",
      " 'system' 'systems' 'take' 'takeover' 'target' 'taxes' 'technology'\n",
      " 'teleste' 'teliasonera' 'term' 'terms' 'tesco' 'third' 'three' 'thursday'\n",
      " 'time' 'today' 'total' 'totaled' 'totalled' 'trade' 'trading' 'traffic'\n",
      " 'transaction' 'transfer' 'tsla' 'tuesday' 'turnover' 'two' 'unit' 'units'\n",
      " 'update' 'upm' 'usd' 'use' 'used' 'using' 'value' 'versus' 'via' 'volume'\n",
      " 'voting' 'water' 'way' 'wednesday' 'week' 'well' 'went' 'whole' 'work'\n",
      " 'world' 'worth' 'would' 'www' 'xac' 'year' 'years' 'yesterday' 'yit']\n"
     ]
    }
   ],
   "source": [
    "vectorizer = TfidfVectorizer(max_features=500)\n",
    "X = vectorizer.fit_transform(df['Cleaned_text']).toarray()\n",
    "print(vectorizer.get_feature_names_out())\n",
    "y = df['Sentiment']"
   ]
  },
  {
   "cell_type": "code",
   "execution_count": 195,
   "id": "a8849ca1",
   "metadata": {},
   "outputs": [],
   "source": [
    "X_train,X_test,y_train,y_test = train_test_split(X,y,test_size=0.2,random_state=42)"
   ]
  },
  {
   "cell_type": "code",
   "execution_count": 196,
   "id": "b4e168c8",
   "metadata": {},
   "outputs": [
    {
     "name": "stdout",
     "output_type": "stream",
     "text": [
      " Training test size:4673\n",
      " Test set size:1169\n"
     ]
    }
   ],
   "source": [
    "print(f' Training test size:{X_train.shape[0]}') # 80%\n",
    "print(f' Test set size:{X_test.shape[0]}') #20%"
   ]
  },
  {
   "cell_type": "code",
   "execution_count": 197,
   "id": "15b78762",
   "metadata": {},
   "outputs": [],
   "source": [
    "# Applying logistic regression."
   ]
  },
  {
   "cell_type": "code",
   "execution_count": 198,
   "id": "56a7d298",
   "metadata": {},
   "outputs": [],
   "source": [
    "from sklearn.linear_model import LogisticRegression"
   ]
  },
  {
   "cell_type": "code",
   "execution_count": 199,
   "id": "9506e122",
   "metadata": {},
   "outputs": [],
   "source": [
    "model = LogisticRegression(max_iter = 1000)"
   ]
  },
  {
   "cell_type": "code",
   "execution_count": 200,
   "id": "34ee72f1",
   "metadata": {},
   "outputs": [],
   "source": [
    "X_train,X_test,y_train,y_test = train_test_split(X,y,test_size=0.2,random_state=42)"
   ]
  },
  {
   "cell_type": "code",
   "execution_count": 201,
   "id": "774188ac",
   "metadata": {},
   "outputs": [
    {
     "data": {
      "text/html": [
       "<style>#sk-container-id-6 {color: black;}#sk-container-id-6 pre{padding: 0;}#sk-container-id-6 div.sk-toggleable {background-color: white;}#sk-container-id-6 label.sk-toggleable__label {cursor: pointer;display: block;width: 100%;margin-bottom: 0;padding: 0.3em;box-sizing: border-box;text-align: center;}#sk-container-id-6 label.sk-toggleable__label-arrow:before {content: \"▸\";float: left;margin-right: 0.25em;color: #696969;}#sk-container-id-6 label.sk-toggleable__label-arrow:hover:before {color: black;}#sk-container-id-6 div.sk-estimator:hover label.sk-toggleable__label-arrow:before {color: black;}#sk-container-id-6 div.sk-toggleable__content {max-height: 0;max-width: 0;overflow: hidden;text-align: left;background-color: #f0f8ff;}#sk-container-id-6 div.sk-toggleable__content pre {margin: 0.2em;color: black;border-radius: 0.25em;background-color: #f0f8ff;}#sk-container-id-6 input.sk-toggleable__control:checked~div.sk-toggleable__content {max-height: 200px;max-width: 100%;overflow: auto;}#sk-container-id-6 input.sk-toggleable__control:checked~label.sk-toggleable__label-arrow:before {content: \"▾\";}#sk-container-id-6 div.sk-estimator input.sk-toggleable__control:checked~label.sk-toggleable__label {background-color: #d4ebff;}#sk-container-id-6 div.sk-label input.sk-toggleable__control:checked~label.sk-toggleable__label {background-color: #d4ebff;}#sk-container-id-6 input.sk-hidden--visually {border: 0;clip: rect(1px 1px 1px 1px);clip: rect(1px, 1px, 1px, 1px);height: 1px;margin: -1px;overflow: hidden;padding: 0;position: absolute;width: 1px;}#sk-container-id-6 div.sk-estimator {font-family: monospace;background-color: #f0f8ff;border: 1px dotted black;border-radius: 0.25em;box-sizing: border-box;margin-bottom: 0.5em;}#sk-container-id-6 div.sk-estimator:hover {background-color: #d4ebff;}#sk-container-id-6 div.sk-parallel-item::after {content: \"\";width: 100%;border-bottom: 1px solid gray;flex-grow: 1;}#sk-container-id-6 div.sk-label:hover label.sk-toggleable__label {background-color: #d4ebff;}#sk-container-id-6 div.sk-serial::before {content: \"\";position: absolute;border-left: 1px solid gray;box-sizing: border-box;top: 0;bottom: 0;left: 50%;z-index: 0;}#sk-container-id-6 div.sk-serial {display: flex;flex-direction: column;align-items: center;background-color: white;padding-right: 0.2em;padding-left: 0.2em;position: relative;}#sk-container-id-6 div.sk-item {position: relative;z-index: 1;}#sk-container-id-6 div.sk-parallel {display: flex;align-items: stretch;justify-content: center;background-color: white;position: relative;}#sk-container-id-6 div.sk-item::before, #sk-container-id-6 div.sk-parallel-item::before {content: \"\";position: absolute;border-left: 1px solid gray;box-sizing: border-box;top: 0;bottom: 0;left: 50%;z-index: -1;}#sk-container-id-6 div.sk-parallel-item {display: flex;flex-direction: column;z-index: 1;position: relative;background-color: white;}#sk-container-id-6 div.sk-parallel-item:first-child::after {align-self: flex-end;width: 50%;}#sk-container-id-6 div.sk-parallel-item:last-child::after {align-self: flex-start;width: 50%;}#sk-container-id-6 div.sk-parallel-item:only-child::after {width: 0;}#sk-container-id-6 div.sk-dashed-wrapped {border: 1px dashed gray;margin: 0 0.4em 0.5em 0.4em;box-sizing: border-box;padding-bottom: 0.4em;background-color: white;}#sk-container-id-6 div.sk-label label {font-family: monospace;font-weight: bold;display: inline-block;line-height: 1.2em;}#sk-container-id-6 div.sk-label-container {text-align: center;}#sk-container-id-6 div.sk-container {/* jupyter's `normalize.less` sets `[hidden] { display: none; }` but bootstrap.min.css set `[hidden] { display: none !important; }` so we also need the `!important` here to be able to override the default hidden behavior on the sphinx rendered scikit-learn.org. See: https://github.com/scikit-learn/scikit-learn/issues/21755 */display: inline-block !important;position: relative;}#sk-container-id-6 div.sk-text-repr-fallback {display: none;}</style><div id=\"sk-container-id-6\" class=\"sk-top-container\"><div class=\"sk-text-repr-fallback\"><pre>LogisticRegression(max_iter=1000)</pre><b>In a Jupyter environment, please rerun this cell to show the HTML representation or trust the notebook. <br />On GitHub, the HTML representation is unable to render, please try loading this page with nbviewer.org.</b></div><div class=\"sk-container\" hidden><div class=\"sk-item\"><div class=\"sk-estimator sk-toggleable\"><input class=\"sk-toggleable__control sk-hidden--visually\" id=\"sk-estimator-id-10\" type=\"checkbox\" checked><label for=\"sk-estimator-id-10\" class=\"sk-toggleable__label sk-toggleable__label-arrow\">LogisticRegression</label><div class=\"sk-toggleable__content\"><pre>LogisticRegression(max_iter=1000)</pre></div></div></div></div></div>"
      ],
      "text/plain": [
       "LogisticRegression(max_iter=1000)"
      ]
     },
     "execution_count": 201,
     "metadata": {},
     "output_type": "execute_result"
    }
   ],
   "source": [
    "model.fit(X_train,y_train)"
   ]
  },
  {
   "cell_type": "code",
   "execution_count": 202,
   "id": "647afba4",
   "metadata": {},
   "outputs": [],
   "source": [
    "y_pred = model.predict(X_test)"
   ]
  },
  {
   "cell_type": "code",
   "execution_count": 203,
   "id": "79d03dd1",
   "metadata": {},
   "outputs": [
    {
     "data": {
      "text/plain": [
       "array(['neutral', 'positive', 'negative', ..., 'neutral', 'neutral',\n",
       "       'positive'], dtype=object)"
      ]
     },
     "execution_count": 203,
     "metadata": {},
     "output_type": "execute_result"
    }
   ],
   "source": [
    "y_pred"
   ]
  },
  {
   "cell_type": "code",
   "execution_count": 204,
   "id": "9b5a01e7",
   "metadata": {},
   "outputs": [
    {
     "name": "stdout",
     "output_type": "stream",
     "text": [
      "Accuracy: 0.66\n",
      "              precision    recall  f1-score   support\n",
      "\n",
      "    negative       0.44      0.18      0.26       175\n",
      "     neutral       0.68      0.85      0.76       622\n",
      "    positive       0.67      0.57      0.62       372\n",
      "\n",
      "    accuracy                           0.66      1169\n",
      "   macro avg       0.60      0.54      0.54      1169\n",
      "weighted avg       0.64      0.66      0.64      1169\n",
      "\n"
     ]
    }
   ],
   "source": [
    "print(f'Accuracy: {accuracy_score(y_test,y_pred):.2f}')\n",
    "print(classification_report(y_test,y_pred))"
   ]
  },
  {
   "cell_type": "code",
   "execution_count": 136,
   "id": "65513bd9",
   "metadata": {},
   "outputs": [],
   "source": [
    "import joblib"
   ]
  },
  {
   "cell_type": "code",
   "execution_count": 205,
   "id": "2dfff0b9",
   "metadata": {},
   "outputs": [],
   "source": [
    "from sklearn.svm import LinearSVC"
   ]
  },
  {
   "cell_type": "code",
   "execution_count": 206,
   "id": "32949ff5",
   "metadata": {},
   "outputs": [],
   "source": [
    "X_train, X_test, y_train, y_test = train_test_split(df['Cleaned_text'], \n",
    "                                                    df['Sentiment'],\n",
    "                                                    test_size=0.2,\n",
    "                                                    random_state=0,\n",
    "        \n",
    "                                                   )"
   ]
  },
  {
   "cell_type": "code",
   "execution_count": 207,
   "id": "e1c98eb2",
   "metadata": {},
   "outputs": [
    {
     "data": {
      "text/plain": [
       "(4673,)"
      ]
     },
     "execution_count": 207,
     "metadata": {},
     "output_type": "execute_result"
    }
   ],
   "source": [
    "X_train.shape"
   ]
  },
  {
   "cell_type": "code",
   "execution_count": 208,
   "id": "1d6e8377",
   "metadata": {},
   "outputs": [
    {
     "data": {
      "text/plain": [
       "(1169,)"
      ]
     },
     "execution_count": 208,
     "metadata": {},
     "output_type": "execute_result"
    }
   ],
   "source": [
    "X_test.shape"
   ]
  },
  {
   "cell_type": "code",
   "execution_count": 209,
   "id": "f628a43d",
   "metadata": {},
   "outputs": [],
   "source": [
    "clf = Pipeline([('tfidf', TfidfVectorizer()), ('clf', LinearSVC())])"
   ]
  },
  {
   "cell_type": "code",
   "execution_count": 210,
   "id": "9f87e50a",
   "metadata": {},
   "outputs": [
    {
     "data": {
      "text/html": [
       "<style>#sk-container-id-7 {color: black;}#sk-container-id-7 pre{padding: 0;}#sk-container-id-7 div.sk-toggleable {background-color: white;}#sk-container-id-7 label.sk-toggleable__label {cursor: pointer;display: block;width: 100%;margin-bottom: 0;padding: 0.3em;box-sizing: border-box;text-align: center;}#sk-container-id-7 label.sk-toggleable__label-arrow:before {content: \"▸\";float: left;margin-right: 0.25em;color: #696969;}#sk-container-id-7 label.sk-toggleable__label-arrow:hover:before {color: black;}#sk-container-id-7 div.sk-estimator:hover label.sk-toggleable__label-arrow:before {color: black;}#sk-container-id-7 div.sk-toggleable__content {max-height: 0;max-width: 0;overflow: hidden;text-align: left;background-color: #f0f8ff;}#sk-container-id-7 div.sk-toggleable__content pre {margin: 0.2em;color: black;border-radius: 0.25em;background-color: #f0f8ff;}#sk-container-id-7 input.sk-toggleable__control:checked~div.sk-toggleable__content {max-height: 200px;max-width: 100%;overflow: auto;}#sk-container-id-7 input.sk-toggleable__control:checked~label.sk-toggleable__label-arrow:before {content: \"▾\";}#sk-container-id-7 div.sk-estimator input.sk-toggleable__control:checked~label.sk-toggleable__label {background-color: #d4ebff;}#sk-container-id-7 div.sk-label input.sk-toggleable__control:checked~label.sk-toggleable__label {background-color: #d4ebff;}#sk-container-id-7 input.sk-hidden--visually {border: 0;clip: rect(1px 1px 1px 1px);clip: rect(1px, 1px, 1px, 1px);height: 1px;margin: -1px;overflow: hidden;padding: 0;position: absolute;width: 1px;}#sk-container-id-7 div.sk-estimator {font-family: monospace;background-color: #f0f8ff;border: 1px dotted black;border-radius: 0.25em;box-sizing: border-box;margin-bottom: 0.5em;}#sk-container-id-7 div.sk-estimator:hover {background-color: #d4ebff;}#sk-container-id-7 div.sk-parallel-item::after {content: \"\";width: 100%;border-bottom: 1px solid gray;flex-grow: 1;}#sk-container-id-7 div.sk-label:hover label.sk-toggleable__label {background-color: #d4ebff;}#sk-container-id-7 div.sk-serial::before {content: \"\";position: absolute;border-left: 1px solid gray;box-sizing: border-box;top: 0;bottom: 0;left: 50%;z-index: 0;}#sk-container-id-7 div.sk-serial {display: flex;flex-direction: column;align-items: center;background-color: white;padding-right: 0.2em;padding-left: 0.2em;position: relative;}#sk-container-id-7 div.sk-item {position: relative;z-index: 1;}#sk-container-id-7 div.sk-parallel {display: flex;align-items: stretch;justify-content: center;background-color: white;position: relative;}#sk-container-id-7 div.sk-item::before, #sk-container-id-7 div.sk-parallel-item::before {content: \"\";position: absolute;border-left: 1px solid gray;box-sizing: border-box;top: 0;bottom: 0;left: 50%;z-index: -1;}#sk-container-id-7 div.sk-parallel-item {display: flex;flex-direction: column;z-index: 1;position: relative;background-color: white;}#sk-container-id-7 div.sk-parallel-item:first-child::after {align-self: flex-end;width: 50%;}#sk-container-id-7 div.sk-parallel-item:last-child::after {align-self: flex-start;width: 50%;}#sk-container-id-7 div.sk-parallel-item:only-child::after {width: 0;}#sk-container-id-7 div.sk-dashed-wrapped {border: 1px dashed gray;margin: 0 0.4em 0.5em 0.4em;box-sizing: border-box;padding-bottom: 0.4em;background-color: white;}#sk-container-id-7 div.sk-label label {font-family: monospace;font-weight: bold;display: inline-block;line-height: 1.2em;}#sk-container-id-7 div.sk-label-container {text-align: center;}#sk-container-id-7 div.sk-container {/* jupyter's `normalize.less` sets `[hidden] { display: none; }` but bootstrap.min.css set `[hidden] { display: none !important; }` so we also need the `!important` here to be able to override the default hidden behavior on the sphinx rendered scikit-learn.org. See: https://github.com/scikit-learn/scikit-learn/issues/21755 */display: inline-block !important;position: relative;}#sk-container-id-7 div.sk-text-repr-fallback {display: none;}</style><div id=\"sk-container-id-7\" class=\"sk-top-container\"><div class=\"sk-text-repr-fallback\"><pre>Pipeline(steps=[(&#x27;tfidf&#x27;, TfidfVectorizer()), (&#x27;clf&#x27;, LinearSVC())])</pre><b>In a Jupyter environment, please rerun this cell to show the HTML representation or trust the notebook. <br />On GitHub, the HTML representation is unable to render, please try loading this page with nbviewer.org.</b></div><div class=\"sk-container\" hidden><div class=\"sk-item sk-dashed-wrapped\"><div class=\"sk-label-container\"><div class=\"sk-label sk-toggleable\"><input class=\"sk-toggleable__control sk-hidden--visually\" id=\"sk-estimator-id-11\" type=\"checkbox\" ><label for=\"sk-estimator-id-11\" class=\"sk-toggleable__label sk-toggleable__label-arrow\">Pipeline</label><div class=\"sk-toggleable__content\"><pre>Pipeline(steps=[(&#x27;tfidf&#x27;, TfidfVectorizer()), (&#x27;clf&#x27;, LinearSVC())])</pre></div></div></div><div class=\"sk-serial\"><div class=\"sk-item\"><div class=\"sk-estimator sk-toggleable\"><input class=\"sk-toggleable__control sk-hidden--visually\" id=\"sk-estimator-id-12\" type=\"checkbox\" ><label for=\"sk-estimator-id-12\" class=\"sk-toggleable__label sk-toggleable__label-arrow\">TfidfVectorizer</label><div class=\"sk-toggleable__content\"><pre>TfidfVectorizer()</pre></div></div></div><div class=\"sk-item\"><div class=\"sk-estimator sk-toggleable\"><input class=\"sk-toggleable__control sk-hidden--visually\" id=\"sk-estimator-id-13\" type=\"checkbox\" ><label for=\"sk-estimator-id-13\" class=\"sk-toggleable__label sk-toggleable__label-arrow\">LinearSVC</label><div class=\"sk-toggleable__content\"><pre>LinearSVC()</pre></div></div></div></div></div></div></div>"
      ],
      "text/plain": [
       "Pipeline(steps=[('tfidf', TfidfVectorizer()), ('clf', LinearSVC())])"
      ]
     },
     "execution_count": 210,
     "metadata": {},
     "output_type": "execute_result"
    }
   ],
   "source": [
    "clf.fit(X_train, y_train)"
   ]
  },
  {
   "cell_type": "code",
   "execution_count": 211,
   "id": "44f1cdcc",
   "metadata": {},
   "outputs": [],
   "source": [
    "y_pred = clf.predict(X_test)"
   ]
  },
  {
   "cell_type": "code",
   "execution_count": 212,
   "id": "8ccab694",
   "metadata": {},
   "outputs": [
    {
     "data": {
      "text/plain": [
       "array(['positive', 'neutral', 'positive', ..., 'positive', 'positive',\n",
       "       'positive'], dtype=object)"
      ]
     },
     "execution_count": 212,
     "metadata": {},
     "output_type": "execute_result"
    }
   ],
   "source": [
    "y_pred"
   ]
  },
  {
   "cell_type": "code",
   "execution_count": 213,
   "id": "54b1a008",
   "metadata": {},
   "outputs": [
    {
     "name": "stdout",
     "output_type": "stream",
     "text": [
      "              precision    recall  f1-score   support\n",
      "\n",
      "    negative       0.33      0.22      0.26       192\n",
      "     neutral       0.71      0.80      0.75       643\n",
      "    positive       0.71      0.68      0.70       334\n",
      "\n",
      "    accuracy                           0.67      1169\n",
      "   macro avg       0.58      0.57      0.57      1169\n",
      "weighted avg       0.65      0.67      0.66      1169\n",
      "\n"
     ]
    }
   ],
   "source": [
    "print(classification_report(y_test, y_pred))"
   ]
  },
  {
   "cell_type": "code",
   "execution_count": 224,
   "id": "02a9db35",
   "metadata": {},
   "outputs": [],
   "source": [
    "joblib.dump(clf,'Sentimental_analysis.pkl')\n",
    "loaded_model = joblib.load('Sentimental_analysis.pkl')"
   ]
  },
  {
   "cell_type": "code",
   "execution_count": 227,
   "id": "63ea4710",
   "metadata": {},
   "outputs": [
    {
     "data": {
      "text/plain": [
       "array(['positive'], dtype=object)"
      ]
     },
     "execution_count": 227,
     "metadata": {},
     "output_type": "execute_result"
    }
   ],
   "source": [
    "loaded_model.predict(['Wow, this is amazing lesson'])"
   ]
  },
  {
   "cell_type": "code",
   "execution_count": 228,
   "id": "97782f2d",
   "metadata": {},
   "outputs": [
    {
     "data": {
      "text/plain": [
       "array(['negative'], dtype=object)"
      ]
     },
     "execution_count": 228,
     "metadata": {},
     "output_type": "execute_result"
    }
   ],
   "source": [
    "loaded_model.predict([\"i am sad\"]) "
   ]
  },
  {
   "cell_type": "code",
   "execution_count": null,
   "id": "c02363ea",
   "metadata": {},
   "outputs": [],
   "source": []
  },
  {
   "cell_type": "code",
   "execution_count": 217,
   "id": "0b2e2871",
   "metadata": {},
   "outputs": [],
   "source": [
    "import pickle\n",
    "\n",
    "pickle.dump(clf, open('sentiment_analysis.pkl', 'wb'))"
   ]
  },
  {
   "cell_type": "code",
   "execution_count": null,
   "id": "22cc4d3b",
   "metadata": {},
   "outputs": [],
   "source": []
  }
 ],
 "metadata": {
  "kernelspec": {
   "display_name": "Python 3 (ipykernel)",
   "language": "python",
   "name": "python3"
  },
  "language_info": {
   "codemirror_mode": {
    "name": "ipython",
    "version": 3
   },
   "file_extension": ".py",
   "mimetype": "text/x-python",
   "name": "python",
   "nbconvert_exporter": "python",
   "pygments_lexer": "ipython3",
   "version": "3.10.13"
  }
 },
 "nbformat": 4,
 "nbformat_minor": 5
}
